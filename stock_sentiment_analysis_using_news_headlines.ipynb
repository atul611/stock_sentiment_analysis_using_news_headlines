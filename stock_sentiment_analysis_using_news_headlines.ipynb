{
  "cells": [
    {
      "metadata": {
        "id": "ifJi6eqpsqgx"
      },
      "cell_type": "markdown",
      "source": [
        "# Stock Sentiment Analysis using News Headlines.\n",
        "\n",
        "**About the problem and the dataset used.**\n",
        "* The data set in consideration is a combination of the world news and stock price shifts.\n",
        "* Data ranges from 2008 to 2016 and the data from 2000 to 2008 was scrapped from Yahoo finance.\n",
        "* There are 25 columns of top news headlines for each day in the data frame.\n",
        "* Class 1- the stock price increased.\n",
        "* Class 0- the stock price stayed the same or decreased.\n",
        "\n",
        "**About the approach.**\n",
        "* Used TF-IDF and Bag of Words for extracting featues from the headlines.\n",
        "* Used Random Forest Classifier, Multinational Naive Bayes and Passive Aggressive Classifier for analysis."
      ]
    },
    {
      "cell_type": "markdown",
      "source": [
        "#Importing the Necessary Library \n"
      ],
      "metadata": {
        "id": "Ba6hlg14tv2n"
      }
    },
    {
      "metadata": {
        "_uuid": "8f2839f25d086af736a60e9eeb907d3b93b6e0e5",
        "_cell_guid": "b1076dfc-b9ad-4769-8c92-a6c4dae69d19",
        "trusted": true,
        "id": "R5SFbOlLsqgz"
      },
      "cell_type": "code",
      "source": [
        "import pandas as pd\n",
        "import numpy as np\n",
        "import matplotlib.pyplot as plt"
      ],
      "execution_count": null,
      "outputs": []
    },
    {
      "metadata": {
        "_uuid": "d629ff2d2480ee46fbb7e2d37f6b5fab8052498a",
        "_cell_guid": "79c7e3d0-c299-4dcb-8224-4455121ee9b0",
        "trusted": true,
        "id": "gO31ZMlysqg0",
        "outputId": "db5c91a3-485f-4f34-9070-25a7516a4719"
      },
      "cell_type": "code",
      "source": [
        "df=pd.read_csv('/kaggle/input/stock-sentiment-analysis/Stock_Dataa.csv', encoding=\"ISO-8859-1\")\n",
        "df.head()"
      ],
      "execution_count": null,
      "outputs": [
        {
          "output_type": "execute_result",
          "execution_count": 92,
          "data": {
            "text/plain": "         Date  Label                                               Top1  \\\n0  2000-01-03      0  A 'hindrance to operations': extracts from the...   \n1  2000-01-04      0                                          Scorecard   \n2  2000-01-05      0                  Coventry caught on counter by Flo   \n3  2000-01-06      1                      Pilgrim knows how to progress   \n4  2000-01-07      1                               Hitches and Horlocks   \n\n                                 Top2  \\\n0                           Scorecard   \n1                 The best lake scene   \n2  United's rivals on the road to Rio   \n3                 Thatcher facing ban   \n4      Beckham off but United survive   \n\n                                            Top3  \\\n0                Hughes' instant hit buoys Blues   \n1                  Leader: German sleaze inquiry   \n2  Thatcher issues defence before trial by video   \n3        McIlroy calls for Irish fighting spirit   \n4                        Breast cancer screening   \n\n                                            Top4  \\\n0       Jack gets his skates on at ice-cold Alex   \n1                                  Cheerio, boyo   \n2  Police help Smith lay down the law at Everton   \n3                Leicester bin stadium blueprint   \n4                                    Alan Parker   \n\n                                          Top5  \\\n0       Chaos as Maracana builds up for United   \n1                     The main recommendations   \n2  Tale of Trautmann bears two more retellings   \n3               United braced for Mexican wave   \n4      Guardian readers: are you all whingers?   \n\n                                                Top6  \\\n0  Depleted Leicester prevail as Elliott spoils E...   \n1                             Has Cubie killed fees?   \n2                                England on the rack   \n3  Auntie back in fashion, even if the dress look...   \n4                                   Hollywood Beyond   \n\n                                              Top7  \\\n0                 Hungry Spurs sense rich pickings   \n1                           Has Cubie killed fees?   \n2  Pakistan retaliate with call for video of Walsh   \n3                    Shoaib appeal goes to the top   \n4                               Ashes and diamonds   \n\n                                                Top8  ...  \\\n0                  Gunners so wide of an easy target  ...   \n1                             Has Cubie killed fees?  ...   \n2               Cullinan continues his Cape monopoly  ...   \n3  Hussain hurt by 'shambles' but lays blame on e...  ...   \n4                   Whingers - a formidable minority  ...   \n\n                                               Top16  \\\n0           Flintoff injury piles on woe for England   \n1                               On the critical list   \n2                        South Melbourne (Australia)   \n3  Putin admits Yeltsin quit to give him a head s...   \n4                             Most everywhere:  UDIs   \n\n                                               Top17  \\\n0  Hunters threaten Jospin with new battle of the...   \n1                          The timing of their lives   \n2                                    Necaxa (Mexico)   \n3         BBC worst hit as digital TV begins to bite   \n4                       Most wanted:  Chloe lunettes   \n\n                                            Top18  \\\n0             Kohl's successor drawn into scandal   \n1                                     Dear doctor   \n2                             Real Madrid (Spain)   \n3                     How much can you pay for...   \n4  Return of the cane 'completely off the agenda'   \n\n                                               Top19  \\\n0               The difference between men and women   \n1  Irish court halts IRA man's extradition to Nor...   \n2                          Raja Casablanca (Morocco)   \n3                                 Christmas glitches   \n4                   From Sleepy Hollow to Greeneland   \n\n                                               Top20  \\\n0                Sara Denver, nurse turned solicitor   \n1  Burundi peace initiative fades after rebels re...   \n2                               Corinthians (Brazil)   \n3  Upending a table, Chopping a line and Scoring ...   \n4              Blunkett outlines vision for over 11s   \n\n                                               Top21  \\\n0     Diana's landmine crusade put Tories in a panic   \n1               PE points the way forward to the ECB   \n2                                 Tony's pet project   \n3   Scientific evidence 'unreliable', defence claims   \n4  Embattled Dobson attacks 'play now, pay later'...   \n\n                                               Top22  \\\n0  Yeltsin's resignation caught opposition flat-f...   \n1  Campaigners keep up pressure on Nazi war crime...   \n2                            Al Nassr (Saudi Arabia)   \n3     Fusco wins judicial review in extradition case   \n4                                  Doom and the Dome   \n\n                             Top23  \\\n0                 Russian roulette   \n1                   Jane Ratcliffe   \n2                Ideal Holmes show   \n3    Rebels thwart Russian advance   \n4  What is the north-south divide?   \n\n                                               Top24  \\\n0                                           Sold out   \n1  Yet more things you wouldn't know without the ...   \n2               Pinochet leaves hospital after tests   \n3               Blair orders shake-up of failing NHS   \n4                          Aitken released from jail   \n\n                          Top25  \n0            Recovering a title  \n1  Millennium bug fails to bite  \n2                  Useful links  \n3   Lessons of law's hard heart  \n4                    Gone aloft  \n\n[5 rows x 27 columns]",
            "text/html": "<div>\n<style scoped>\n    .dataframe tbody tr th:only-of-type {\n        vertical-align: middle;\n    }\n\n    .dataframe tbody tr th {\n        vertical-align: top;\n    }\n\n    .dataframe thead th {\n        text-align: right;\n    }\n</style>\n<table border=\"1\" class=\"dataframe\">\n  <thead>\n    <tr style=\"text-align: right;\">\n      <th></th>\n      <th>Date</th>\n      <th>Label</th>\n      <th>Top1</th>\n      <th>Top2</th>\n      <th>Top3</th>\n      <th>Top4</th>\n      <th>Top5</th>\n      <th>Top6</th>\n      <th>Top7</th>\n      <th>Top8</th>\n      <th>...</th>\n      <th>Top16</th>\n      <th>Top17</th>\n      <th>Top18</th>\n      <th>Top19</th>\n      <th>Top20</th>\n      <th>Top21</th>\n      <th>Top22</th>\n      <th>Top23</th>\n      <th>Top24</th>\n      <th>Top25</th>\n    </tr>\n  </thead>\n  <tbody>\n    <tr>\n      <th>0</th>\n      <td>2000-01-03</td>\n      <td>0</td>\n      <td>A 'hindrance to operations': extracts from the...</td>\n      <td>Scorecard</td>\n      <td>Hughes' instant hit buoys Blues</td>\n      <td>Jack gets his skates on at ice-cold Alex</td>\n      <td>Chaos as Maracana builds up for United</td>\n      <td>Depleted Leicester prevail as Elliott spoils E...</td>\n      <td>Hungry Spurs sense rich pickings</td>\n      <td>Gunners so wide of an easy target</td>\n      <td>...</td>\n      <td>Flintoff injury piles on woe for England</td>\n      <td>Hunters threaten Jospin with new battle of the...</td>\n      <td>Kohl's successor drawn into scandal</td>\n      <td>The difference between men and women</td>\n      <td>Sara Denver, nurse turned solicitor</td>\n      <td>Diana's landmine crusade put Tories in a panic</td>\n      <td>Yeltsin's resignation caught opposition flat-f...</td>\n      <td>Russian roulette</td>\n      <td>Sold out</td>\n      <td>Recovering a title</td>\n    </tr>\n    <tr>\n      <th>1</th>\n      <td>2000-01-04</td>\n      <td>0</td>\n      <td>Scorecard</td>\n      <td>The best lake scene</td>\n      <td>Leader: German sleaze inquiry</td>\n      <td>Cheerio, boyo</td>\n      <td>The main recommendations</td>\n      <td>Has Cubie killed fees?</td>\n      <td>Has Cubie killed fees?</td>\n      <td>Has Cubie killed fees?</td>\n      <td>...</td>\n      <td>On the critical list</td>\n      <td>The timing of their lives</td>\n      <td>Dear doctor</td>\n      <td>Irish court halts IRA man's extradition to Nor...</td>\n      <td>Burundi peace initiative fades after rebels re...</td>\n      <td>PE points the way forward to the ECB</td>\n      <td>Campaigners keep up pressure on Nazi war crime...</td>\n      <td>Jane Ratcliffe</td>\n      <td>Yet more things you wouldn't know without the ...</td>\n      <td>Millennium bug fails to bite</td>\n    </tr>\n    <tr>\n      <th>2</th>\n      <td>2000-01-05</td>\n      <td>0</td>\n      <td>Coventry caught on counter by Flo</td>\n      <td>United's rivals on the road to Rio</td>\n      <td>Thatcher issues defence before trial by video</td>\n      <td>Police help Smith lay down the law at Everton</td>\n      <td>Tale of Trautmann bears two more retellings</td>\n      <td>England on the rack</td>\n      <td>Pakistan retaliate with call for video of Walsh</td>\n      <td>Cullinan continues his Cape monopoly</td>\n      <td>...</td>\n      <td>South Melbourne (Australia)</td>\n      <td>Necaxa (Mexico)</td>\n      <td>Real Madrid (Spain)</td>\n      <td>Raja Casablanca (Morocco)</td>\n      <td>Corinthians (Brazil)</td>\n      <td>Tony's pet project</td>\n      <td>Al Nassr (Saudi Arabia)</td>\n      <td>Ideal Holmes show</td>\n      <td>Pinochet leaves hospital after tests</td>\n      <td>Useful links</td>\n    </tr>\n    <tr>\n      <th>3</th>\n      <td>2000-01-06</td>\n      <td>1</td>\n      <td>Pilgrim knows how to progress</td>\n      <td>Thatcher facing ban</td>\n      <td>McIlroy calls for Irish fighting spirit</td>\n      <td>Leicester bin stadium blueprint</td>\n      <td>United braced for Mexican wave</td>\n      <td>Auntie back in fashion, even if the dress look...</td>\n      <td>Shoaib appeal goes to the top</td>\n      <td>Hussain hurt by 'shambles' but lays blame on e...</td>\n      <td>...</td>\n      <td>Putin admits Yeltsin quit to give him a head s...</td>\n      <td>BBC worst hit as digital TV begins to bite</td>\n      <td>How much can you pay for...</td>\n      <td>Christmas glitches</td>\n      <td>Upending a table, Chopping a line and Scoring ...</td>\n      <td>Scientific evidence 'unreliable', defence claims</td>\n      <td>Fusco wins judicial review in extradition case</td>\n      <td>Rebels thwart Russian advance</td>\n      <td>Blair orders shake-up of failing NHS</td>\n      <td>Lessons of law's hard heart</td>\n    </tr>\n    <tr>\n      <th>4</th>\n      <td>2000-01-07</td>\n      <td>1</td>\n      <td>Hitches and Horlocks</td>\n      <td>Beckham off but United survive</td>\n      <td>Breast cancer screening</td>\n      <td>Alan Parker</td>\n      <td>Guardian readers: are you all whingers?</td>\n      <td>Hollywood Beyond</td>\n      <td>Ashes and diamonds</td>\n      <td>Whingers - a formidable minority</td>\n      <td>...</td>\n      <td>Most everywhere:  UDIs</td>\n      <td>Most wanted:  Chloe lunettes</td>\n      <td>Return of the cane 'completely off the agenda'</td>\n      <td>From Sleepy Hollow to Greeneland</td>\n      <td>Blunkett outlines vision for over 11s</td>\n      <td>Embattled Dobson attacks 'play now, pay later'...</td>\n      <td>Doom and the Dome</td>\n      <td>What is the north-south divide?</td>\n      <td>Aitken released from jail</td>\n      <td>Gone aloft</td>\n    </tr>\n  </tbody>\n</table>\n<p>5 rows × 27 columns</p>\n</div>"
          },
          "metadata": {}
        }
      ]
    },
    {
      "metadata": {
        "trusted": true,
        "id": "oZ0zyPl8sqg0",
        "outputId": "eb63c205-2e1c-4a33-ae01-f0934c4ceda4"
      },
      "cell_type": "code",
      "source": [
        "train=df[df['Date']<'20150101']\n",
        "test=df[df['Date']>'20141231']\n",
        "train.shape"
      ],
      "execution_count": null,
      "outputs": [
        {
          "output_type": "execute_result",
          "execution_count": 93,
          "data": {
            "text/plain": "(3975, 27)"
          },
          "metadata": {}
        }
      ]
    },
    {
      "metadata": {
        "trusted": true,
        "id": "EqfimyBesqg1"
      },
      "cell_type": "code",
      "source": [
        "#Removing punctuations \n",
        "data=train.iloc[:,2:27]\n",
        "data.replace(\"[^a-zA-Z]\", \" \",regex=True, inplace=True)"
      ],
      "execution_count": null,
      "outputs": []
    },
    {
      "metadata": {
        "trusted": true,
        "id": "byY_eI24sqg1",
        "outputId": "c8e5db9f-dd5f-4d40-add3-7ce79868a272"
      },
      "cell_type": "code",
      "source": [
        "data.columns"
      ],
      "execution_count": null,
      "outputs": [
        {
          "output_type": "execute_result",
          "execution_count": 95,
          "data": {
            "text/plain": "Index(['Top1', 'Top2', 'Top3', 'Top4', 'Top5', 'Top6', 'Top7', 'Top8', 'Top9',\n       'Top10', 'Top11', 'Top12', 'Top13', 'Top14', 'Top15', 'Top16', 'Top17',\n       'Top18', 'Top19', 'Top20', 'Top21', 'Top22', 'Top23', 'Top24', 'Top25'],\n      dtype='object')"
          },
          "metadata": {}
        }
      ]
    },
    {
      "metadata": {
        "trusted": true,
        "id": "ioXohA8ysqg1",
        "outputId": "960662a8-b9f1-4049-d9c0-738ed67a726f"
      },
      "cell_type": "code",
      "source": [
        "for col in data.columns:\n",
        "    data[col]=data[col].str.lower()\n",
        "data.head(1)"
      ],
      "execution_count": null,
      "outputs": [
        {
          "output_type": "execute_result",
          "execution_count": 96,
          "data": {
            "text/plain": "                                                Top1       Top2  \\\n0  a  hindrance to operations   extracts from the...  scorecard   \n\n                              Top3                                      Top4  \\\n0  hughes  instant hit buoys blues  jack gets his skates on at ice cold alex   \n\n                                     Top5  \\\n0  chaos as maracana builds up for united   \n\n                                                Top6  \\\n0  depleted leicester prevail as elliott spoils e...   \n\n                               Top7                               Top8  \\\n0  hungry spurs sense rich pickings  gunners so wide of an easy target   \n\n                                            Top9  \\\n0  derby raise a glass to strupar s debut double   \n\n                                      Top10  ...  \\\n0  southgate strikes  leeds pay the penalty  ...   \n\n                                      Top16  \\\n0  flintoff injury piles on woe for england   \n\n                                               Top17  \\\n0  hunters threaten jospin with new battle of the...   \n\n                                 Top18                                 Top19  \\\n0  kohl s successor drawn into scandal  the difference between men and women   \n\n                                 Top20  \\\n0  sara denver  nurse turned solicitor   \n\n                                            Top21  \\\n0  diana s landmine crusade put tories in a panic   \n\n                                               Top22             Top23  \\\n0  yeltsin s resignation caught opposition flat f...  russian roulette   \n\n      Top24               Top25  \n0  sold out  recovering a title  \n\n[1 rows x 25 columns]",
            "text/html": "<div>\n<style scoped>\n    .dataframe tbody tr th:only-of-type {\n        vertical-align: middle;\n    }\n\n    .dataframe tbody tr th {\n        vertical-align: top;\n    }\n\n    .dataframe thead th {\n        text-align: right;\n    }\n</style>\n<table border=\"1\" class=\"dataframe\">\n  <thead>\n    <tr style=\"text-align: right;\">\n      <th></th>\n      <th>Top1</th>\n      <th>Top2</th>\n      <th>Top3</th>\n      <th>Top4</th>\n      <th>Top5</th>\n      <th>Top6</th>\n      <th>Top7</th>\n      <th>Top8</th>\n      <th>Top9</th>\n      <th>Top10</th>\n      <th>...</th>\n      <th>Top16</th>\n      <th>Top17</th>\n      <th>Top18</th>\n      <th>Top19</th>\n      <th>Top20</th>\n      <th>Top21</th>\n      <th>Top22</th>\n      <th>Top23</th>\n      <th>Top24</th>\n      <th>Top25</th>\n    </tr>\n  </thead>\n  <tbody>\n    <tr>\n      <th>0</th>\n      <td>a  hindrance to operations   extracts from the...</td>\n      <td>scorecard</td>\n      <td>hughes  instant hit buoys blues</td>\n      <td>jack gets his skates on at ice cold alex</td>\n      <td>chaos as maracana builds up for united</td>\n      <td>depleted leicester prevail as elliott spoils e...</td>\n      <td>hungry spurs sense rich pickings</td>\n      <td>gunners so wide of an easy target</td>\n      <td>derby raise a glass to strupar s debut double</td>\n      <td>southgate strikes  leeds pay the penalty</td>\n      <td>...</td>\n      <td>flintoff injury piles on woe for england</td>\n      <td>hunters threaten jospin with new battle of the...</td>\n      <td>kohl s successor drawn into scandal</td>\n      <td>the difference between men and women</td>\n      <td>sara denver  nurse turned solicitor</td>\n      <td>diana s landmine crusade put tories in a panic</td>\n      <td>yeltsin s resignation caught opposition flat f...</td>\n      <td>russian roulette</td>\n      <td>sold out</td>\n      <td>recovering a title</td>\n    </tr>\n  </tbody>\n</table>\n<p>1 rows × 25 columns</p>\n</div>"
          },
          "metadata": {}
        }
      ]
    },
    {
      "metadata": {
        "trusted": true,
        "id": "ojY7QmUJsqg1"
      },
      "cell_type": "code",
      "source": [
        "headlines = []\n",
        "for row in range(0,len(data.index)):\n",
        "    headlines.append(' '.join(str(x) for x in data.iloc[row,0:25]))"
      ],
      "execution_count": null,
      "outputs": []
    },
    {
      "metadata": {
        "id": "ugWzj11usqg1"
      },
      "cell_type": "markdown",
      "source": [
        "# Using TF-IDF"
      ]
    },
    {
      "metadata": {
        "trusted": true,
        "id": "0DiGVpBRsqg1"
      },
      "cell_type": "code",
      "source": [
        "from sklearn.feature_extraction.text import TfidfVectorizer\n",
        "from sklearn.ensemble import RandomForestClassifier"
      ],
      "execution_count": null,
      "outputs": []
    },
    {
      "metadata": {
        "trusted": true,
        "id": "bPguw1mVsqg2"
      },
      "cell_type": "code",
      "source": [
        "#implement TF-IDF\n",
        "tfvector=TfidfVectorizer(ngram_range=(2,3))\n",
        "train_df=tfvector.fit_transform(headlines)"
      ],
      "execution_count": null,
      "outputs": []
    },
    {
      "metadata": {
        "id": "u2J1J4ifsqg2"
      },
      "cell_type": "markdown",
      "source": [
        "# RandomForestClassifier"
      ]
    },
    {
      "metadata": {
        "trusted": true,
        "id": "iAtJkn-Osqg2",
        "outputId": "cc77520c-b4af-4796-992e-582b625b0d76"
      },
      "cell_type": "code",
      "source": [
        "# implement RandomForest Classifier\n",
        "randomclassifier=RandomForestClassifier(n_estimators=200,criterion='entropy')\n",
        "randomclassifier.fit(train_df,train['Label'])"
      ],
      "execution_count": null,
      "outputs": [
        {
          "output_type": "execute_result",
          "execution_count": 100,
          "data": {
            "text/plain": "RandomForestClassifier(criterion='entropy', n_estimators=200)"
          },
          "metadata": {}
        }
      ]
    },
    {
      "metadata": {
        "id": "15a0TabEsqg2"
      },
      "cell_type": "markdown",
      "source": [
        "# plot_confusion_matrix"
      ]
    },
    {
      "metadata": {
        "trusted": true,
        "id": "2dqBMsJfsqg2"
      },
      "cell_type": "code",
      "source": [
        "from sklearn import metrics\n",
        "import itertools\n",
        "def plot_confusion_matrix(cm, classes,\n",
        "                          normalize=False,\n",
        "                          title='Confusion matrix',\n",
        "                          cmap=plt.cm.Blues):\n",
        "    plt.imshow(cm, interpolation='nearest', cmap=cmap)\n",
        "    plt.title(title)\n",
        "    plt.colorbar()\n",
        "    tick_marks = np.arange(len(classes))\n",
        "    plt.xticks(tick_marks, classes, rotation=45)\n",
        "    plt.yticks(tick_marks, classes)\n",
        "\n",
        "    if normalize:\n",
        "        cm = cm.astype('float') / cm.sum(axis=1)[:, np.newaxis]\n",
        "        print(\"Normalized confusion matrix\")\n",
        "    else:\n",
        "        print('Confusion matrix, without normalization')\n",
        "\n",
        "    thresh = cm.max() / 2.\n",
        "    for i, j in itertools.product(range(cm.shape[0]), range(cm.shape[1])):\n",
        "        plt.text(j, i, cm[i, j],\n",
        "                 horizontalalignment=\"center\",\n",
        "                 color=\"white\" if cm[i, j] > thresh else \"black\")\n",
        "\n",
        "    plt.tight_layout()\n",
        "    plt.ylabel('True label')\n",
        "    plt.xlabel('Predicted label')"
      ],
      "execution_count": null,
      "outputs": []
    },
    {
      "metadata": {
        "trusted": true,
        "id": "TQcIOaO2sqg3"
      },
      "cell_type": "code",
      "source": [
        "# Predict for the Test Dataset\n",
        "test_transform= []\n",
        "for row in range(0,len(test.index)):\n",
        "    test_transform.append(' '.join(str(x) for x in test.iloc[row,2:27]))\n",
        "test_dataset = tfvector.transform(test_transform)\n",
        "predictions = randomclassifier.predict(test_dataset)"
      ],
      "execution_count": null,
      "outputs": []
    },
    {
      "metadata": {
        "trusted": true,
        "id": "82xXe6v4sqg3",
        "outputId": "47e3adc1-6f95-4e96-dbd9-14c2cae8db94"
      },
      "cell_type": "code",
      "source": [
        "from sklearn.metrics import classification_report,confusion_matrix,accuracy_score\n",
        "matrix=confusion_matrix(test['Label'],predictions)\n",
        "print(matrix)\n",
        "score=accuracy_score(test['Label'],predictions)\n",
        "print(score)\n",
        "report=classification_report(test['Label'],predictions)\n",
        "print(report)\n",
        "plot_confusion_matrix(matrix, classes=['Down', 'Up'])"
      ],
      "execution_count": null,
      "outputs": [
        {
          "output_type": "stream",
          "text": "[[150  36]\n [ 21 171]]\n0.8492063492063492\n              precision    recall  f1-score   support\n\n           0       0.88      0.81      0.84       186\n           1       0.83      0.89      0.86       192\n\n    accuracy                           0.85       378\n   macro avg       0.85      0.85      0.85       378\nweighted avg       0.85      0.85      0.85       378\n\nConfusion matrix, without normalization\n",
          "name": "stdout"
        },
        {
          "output_type": "display_data",
          "data": {
            "text/plain": "<Figure size 432x288 with 2 Axes>",
            "image/png": "[encoded data removed]"
          },
          "metadata": {
            "needs_background": "light"
          }
        }
      ]
    },
    {
      "metadata": {
        "id": "ekx45MGnsqg3"
      },
      "cell_type": "markdown",
      "source": [
        "# MultinomialNB"
      ]
    },
    {
      "metadata": {
        "trusted": true,
        "id": "aeNW6V0usqg3",
        "outputId": "35bce60b-075e-4845-ef49-bf953850914a"
      },
      "cell_type": "code",
      "source": [
        "from sklearn.naive_bayes import MultinomialNB\n",
        "nb=MultinomialNB()\n",
        "nb.fit(train_df,train['Label'])"
      ],
      "execution_count": null,
      "outputs": [
        {
          "output_type": "execute_result",
          "execution_count": 104,
          "data": {
            "text/plain": "MultinomialNB()"
          },
          "metadata": {}
        }
      ]
    },
    {
      "metadata": {
        "trusted": true,
        "id": "WZC3riLLsqg3",
        "outputId": "7cfa7c4c-ed7c-40bd-a1e1-eaed9f70687f"
      },
      "cell_type": "code",
      "source": [
        "predictions = nb.predict(test_dataset)\n",
        "matrix=confusion_matrix(test['Label'],predictions)\n",
        "print(matrix)\n",
        "score=accuracy_score(test['Label'],predictions)\n",
        "print(score)\n",
        "report=classification_report(test['Label'],predictions)\n",
        "print(report)\n",
        "plot_confusion_matrix(matrix, classes=['Down', 'Up'])"
      ],
      "execution_count": null,
      "outputs": [
        {
          "output_type": "stream",
          "text": "[[130  56]\n [  0 192]]\n0.8518518518518519\n              precision    recall  f1-score   support\n\n           0       1.00      0.70      0.82       186\n           1       0.77      1.00      0.87       192\n\n    accuracy                           0.85       378\n   macro avg       0.89      0.85      0.85       378\nweighted avg       0.89      0.85      0.85       378\n\nConfusion matrix, without normalization\n",
          "name": "stdout"
        },
        {
          "output_type": "display_data",
          "data": {
            "text/plain": "<Figure size 432x288 with 2 Axes>",
            "image/png": "[encoded data removed]"
          },
          "metadata": {
            "needs_background": "light"
          }
        }
      ]
    },
    {
      "metadata": {
        "id": "aIB2xectsqg4"
      },
      "cell_type": "markdown",
      "source": [
        "# PassiveAggressiveClassifier"
      ]
    },
    {
      "metadata": {
        "trusted": true,
        "id": "JEcmGOGKsqg4",
        "outputId": "55b4c567-cbf1-4675-9854-7e496ee2f1c2"
      },
      "cell_type": "code",
      "source": [
        "from sklearn.linear_model import PassiveAggressiveClassifier\n",
        "pa = PassiveAggressiveClassifier()\n",
        "pa.fit(train_df,train['Label'])"
      ],
      "execution_count": null,
      "outputs": [
        {
          "output_type": "execute_result",
          "execution_count": 106,
          "data": {
            "text/plain": "PassiveAggressiveClassifier()"
          },
          "metadata": {}
        }
      ]
    },
    {
      "metadata": {
        "trusted": true,
        "id": "uYWJYktisqg4",
        "outputId": "3ee9752f-4389-4826-83c8-b081b3c158e9"
      },
      "cell_type": "code",
      "source": [
        "predictions = pa.predict(test_dataset)\n",
        "matrix=confusion_matrix(test['Label'],predictions)\n",
        "print(matrix)\n",
        "score=accuracy_score(test['Label'],predictions)\n",
        "print(score)\n",
        "report=classification_report(test['Label'],predictions)\n",
        "print(report)\n",
        "plot_confusion_matrix(matrix, classes=['Down', 'Up'])"
      ],
      "execution_count": null,
      "outputs": [
        {
          "output_type": "stream",
          "text": "[[145  41]\n [ 14 178]]\n0.8544973544973545\n              precision    recall  f1-score   support\n\n           0       0.91      0.78      0.84       186\n           1       0.81      0.93      0.87       192\n\n    accuracy                           0.85       378\n   macro avg       0.86      0.85      0.85       378\nweighted avg       0.86      0.85      0.85       378\n\nConfusion matrix, without normalization\n",
          "name": "stdout"
        },
        {
          "output_type": "display_data",
          "data": {
            "text/plain": "<Figure size 432x288 with 2 Axes>",
            "image/png": "[encoded data removed]"
          },
          "metadata": {
            "needs_background": "light"
          }
        }
      ]
    },
    {
      "metadata": {
        "id": "A6FY2VXisqg4"
      },
      "cell_type": "markdown",
      "source": [
        "# Using bag of words"
      ]
    },
    {
      "metadata": {
        "trusted": true,
        "id": "zfTE-Mm3sqg4"
      },
      "cell_type": "code",
      "source": [
        "from sklearn.feature_extraction.text import CountVectorizer\n",
        "#implement bag of words\n",
        "bow=CountVectorizer(ngram_range=(2,3))\n",
        "train_df=bow.fit_transform(headlines)"
      ],
      "execution_count": null,
      "outputs": []
    },
    {
      "metadata": {
        "id": "oZYdqRiQsqg5"
      },
      "cell_type": "markdown",
      "source": [
        "# RandomForestClassifier using Bag of words"
      ]
    },
    {
      "metadata": {
        "trusted": true,
        "id": "nj9qyPoxsqg5",
        "outputId": "456cc56d-b7b8-4b9c-81b2-5ff23e9e0aae"
      },
      "cell_type": "code",
      "source": [
        "# implement RandomForest Classifier\n",
        "randomclassifier=RandomForestClassifier(n_estimators=200,criterion='entropy')\n",
        "randomclassifier.fit(train_df,train['Label'])"
      ],
      "execution_count": null,
      "outputs": [
        {
          "output_type": "execute_result",
          "execution_count": 109,
          "data": {
            "text/plain": "RandomForestClassifier(criterion='entropy', n_estimators=200)"
          },
          "metadata": {}
        }
      ]
    },
    {
      "metadata": {
        "trusted": true,
        "id": "rU1JnhS3sqg5",
        "outputId": "9bbe6ed4-8f0f-4ca5-c292-bd9e75fb7637"
      },
      "cell_type": "code",
      "source": [
        "predictions = randomclassifier.predict(test_dataset)\n",
        "matrix=confusion_matrix(test['Label'],predictions)\n",
        "print(matrix)\n",
        "score=accuracy_score(test['Label'],predictions)\n",
        "print(score)\n",
        "report=classification_report(test['Label'],predictions)\n",
        "print(report)"
      ],
      "execution_count": null,
      "outputs": [
        {
          "output_type": "stream",
          "text": "[[  0 186]\n [  0 192]]\n0.5079365079365079\n              precision    recall  f1-score   support\n\n           0       0.00      0.00      0.00       186\n           1       0.51      1.00      0.67       192\n\n    accuracy                           0.51       378\n   macro avg       0.25      0.50      0.34       378\nweighted avg       0.26      0.51      0.34       378\n\n",
          "name": "stdout"
        },
        {
          "output_type": "stream",
          "text": "/opt/conda/lib/python3.7/site-packages/sklearn/metrics/_classification.py:1221: UndefinedMetricWarning: Precision and F-score are ill-defined and being set to 0.0 in labels with no predicted samples. Use `zero_division` parameter to control this behavior.\n  _warn_prf(average, modifier, msg_start, len(result))\n",
          "name": "stderr"
        }
      ]
    },
    {
      "metadata": {
        "id": "F1Zj3Md5sqg5"
      },
      "cell_type": "markdown",
      "source": [
        "# MultinomialNB using Bag of words"
      ]
    },
    {
      "metadata": {
        "trusted": true,
        "id": "Xuqo--m6sqg5",
        "outputId": "4c76e0dc-578a-4874-d79b-45250be44925"
      },
      "cell_type": "code",
      "source": [
        "from sklearn.naive_bayes import MultinomialNB\n",
        "nb=MultinomialNB()\n",
        "nb.fit(train_df,train['Label'])\n",
        "\n",
        "predictions = nb.predict(test_dataset)\n",
        "matrix=confusion_matrix(test['Label'],predictions)\n",
        "print(matrix)\n",
        "score=accuracy_score(test['Label'],predictions)\n",
        "print(score)\n",
        "report=classification_report(test['Label'],predictions)\n",
        "print(report)\n",
        "plot_confusion_matrix(matrix, classes=['Down', 'Up'])"
      ],
      "execution_count": null,
      "outputs": [
        {
          "output_type": "stream",
          "text": "[[141  45]\n [ 10 182]]\n0.8544973544973545\n              precision    recall  f1-score   support\n\n           0       0.93      0.76      0.84       186\n           1       0.80      0.95      0.87       192\n\n    accuracy                           0.85       378\n   macro avg       0.87      0.85      0.85       378\nweighted avg       0.87      0.85      0.85       378\n\nConfusion matrix, without normalization\n",
          "name": "stdout"
        },
        {
          "output_type": "display_data",
          "data": {
            "text/plain": "<Figure size 432x288 with 2 Axes>",
            "image/png": "[encoded data removed]"
          },
          "metadata": {
            "needs_background": "light"
          }
        }
      ]
    },
    {
      "metadata": {
        "id": "73mxOb39sqg5"
      },
      "cell_type": "markdown",
      "source": [
        "# PassiveAggressiveClassifier using Bag of Words"
      ]
    },
    {
      "metadata": {
        "trusted": true,
        "id": "shy8DJ8esqg5",
        "outputId": "b74a1511-916f-4d4a-bae8-879210417ba3"
      },
      "cell_type": "code",
      "source": [
        "from sklearn.linear_model import PassiveAggressiveClassifier\n",
        "pa = PassiveAggressiveClassifier()\n",
        "pa.fit(train_df,train['Label'])\n",
        "\n",
        "predictions = pa.predict(test_dataset)\n",
        "matrix=confusion_matrix(test['Label'],predictions)\n",
        "print(matrix)\n",
        "score=accuracy_score(test['Label'],predictions)\n",
        "print(score)\n",
        "report=classification_report(test['Label'],predictions)\n",
        "print(report)\n",
        "plot_confusion_matrix(matrix, classes=['Down', 'Up'])"
      ],
      "execution_count": null,
      "outputs": [
        {
          "output_type": "stream",
          "text": "[[152  34]\n [ 22 170]]\n0.8518518518518519\n              precision    recall  f1-score   support\n\n           0       0.87      0.82      0.84       186\n           1       0.83      0.89      0.86       192\n\n    accuracy                           0.85       378\n   macro avg       0.85      0.85      0.85       378\nweighted avg       0.85      0.85      0.85       378\n\nConfusion matrix, without normalization\n",
          "name": "stdout"
        },
        {
          "output_type": "display_data",
          "data": {
            "text/plain": "<Figure size 432x288 with 2 Axes>",
            "image/png": "[encoded data removed]"
          },
          "metadata": {
            "needs_background": "light"
          }
        }
      ]
    }
  ],
  "metadata": {
    "kernelspec": {
      "name": "python3",
      "display_name": "Python 3",
      "language": "python"
    },
    "language_info": {
      "name": "python",
      "version": "3.7.6",
      "mimetype": "text/x-python",
      "codemirror_mode": {
        "name": "ipython",
        "version": 3
      },
      "pygments_lexer": "ipython3",
      "nbconvert_exporter": "python",
      "file_extension": ".py"
    },
    "colab": {
      "name": "stock-sentiment-analysis-using-news-headlines.ipynb",
      "provenance": []
    }
  },
  "nbformat": 4,
  "nbformat_minor": 0
}